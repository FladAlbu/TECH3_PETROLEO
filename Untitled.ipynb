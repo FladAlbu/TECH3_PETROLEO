{
 "cells": [
  {
   "cell_type": "code",
   "execution_count": 1,
   "id": "44f4d4ed",
   "metadata": {},
   "outputs": [
    {
     "name": "stderr",
     "output_type": "stream",
     "text": [
      "2024-05-01 14:28:30.197 \n",
      "  \u001b[33m\u001b[1mWarning:\u001b[0m to view this Streamlit app on a browser, run it with the following\n",
      "  command:\n",
      "\n",
      "    streamlit run C:\\Users\\lucas\\anaconda3\\lib\\site-packages\\ipykernel_launcher.py [ARGUMENTS]\n"
     ]
    }
   ],
   "source": [
    "import streamlit as st\n",
    "import pandas as pd\n",
    "import requests\n",
    "import plotly.express as px\n",
    "\n",
    "st.set_page_config(layout = 'wide')\n",
    "\n",
    "def formata_numero(valor,prefixo= ''):\n",
    "    for unidade in ['','mil']:\n",
    "        if valor <1000:\n",
    "            return f'{prefixo}{valor:.2f}{unidade}'\n",
    "        valor /=1000\n",
    "    return f'{prefixo}{valor:.2f} milhões'\n",
    "\n",
    "st.title('DASHBOARD DE VENDAS :shopping_trolley:')\n",
    "\n",
    "url = 'https://labdados.com/produtos'\n",
    "response = requests.get(url)\n",
    "dados = pd.DataFrame.from_dict(response.json())\n",
    "dados['Data da Compra'] = pd.to_datetime(dados['Data da Compra'], format = '%d/%m/%Y')"
   ]
  },
  {
   "cell_type": "code",
   "execution_count": 2,
   "id": "bb0b63d2",
   "metadata": {},
   "outputs": [],
   "source": [
    "\n",
    "\n",
    "## Construindo tabelas auxiliares\n",
    "### Tabelas Receita\n",
    "receita_estado = dados.groupby('Local da compra')[['Preço']].sum()\n",
    "receita_estado = dados.drop_duplicates(subset='Local da compra')[['Local da compra','lat','lon']].merge(receita_estado,left_on='Local da compra',right_index=True).sort_values('Preço',ascending=False)\n",
    "receita_mensal = dados.set_index('Data da Compra').groupby(pd.Grouper(freq='M'))['Preço'].sum().reset_index()\n",
    "receita_mensal['Ano'] = receita_mensal['Data da Compra'].dt.year\n",
    "receita_mensal['Mes'] = receita_mensal['Data da Compra'].dt.month_name()\n",
    "receita_categorias = dados.groupby('Categoria do Produto')[['Preço']].sum().sort_values('Preço',ascending=False)\n",
    "\n",
    "## Tabela Vendas\n",
    "\n",
    "qtd_vendas_estado = dados.groupby('Local da compra')[['Local da compra']].count()\n",
    "qtd_vendas_estado = dados.drop_duplicates(subset='Local da compra')[['Local da compra','lat','lon']].merge(qtd_vendas_estado,left_on='Local da compra',right_index=True).sort_values('Local da compra',ascending=False)\n",
    "qtd_vendas_mensal  = dados.set_index('Data da Compra').groupby(pd.Grouper(freq='M'))['Local da compra'].count().reset_index()\n",
    "qtd_vendas_mensal['Ano'] = qtd_vendas_mensal['Data da Compra'].dt.year\n",
    "qtd_vendas_mensal['Mes'] = qtd_vendas_mensal['Data da Compra'].dt.month_name()\n",
    "###Tabelas Vendedores \n",
    "vendedores = pd.DataFrame(dados.groupby('Vendedor')['Preço'].agg(['sum', 'count']))\n"
   ]
  },
  {
   "cell_type": "code",
   "execution_count": 3,
   "id": "74822561",
   "metadata": {},
   "outputs": [],
   "source": [
    "qtd_vendas_mensal = qtd_vendas_mensal.rename(columns= {'Local da compra': 'Qtd de vendas'})"
   ]
  },
  {
   "cell_type": "code",
   "execution_count": 4,
   "id": "2f123bda",
   "metadata": {},
   "outputs": [],
   "source": [
    "qtd_vendas_categorias = dados['Categoria do Produto'].value_counts().reset_index()\n",
    "qtd_vendas_categorias.columns = ['Categoria do Produto', 'Quantidade de Vendas']\n"
   ]
  },
  {
   "cell_type": "code",
   "execution_count": 5,
   "id": "7fbeb1f4",
   "metadata": {},
   "outputs": [],
   "source": [
    "qtd_vendas_categorias2 = dados.groupby('Categoria do Produto')[['Preço']].count().sort_values('Preço',ascending=False)\n"
   ]
  },
  {
   "cell_type": "code",
   "execution_count": 6,
   "id": "7d88adaa",
   "metadata": {},
   "outputs": [],
   "source": [
    "with st.expander('Colunas'):\n",
    "    colunas = st.multiselect('Selecione as colunas', list(dados.columns), list(dados.columns))\n",
    "\n",
    "st.sidebar.title('Filtros')\n",
    "with st.sidebar.expander('Nome do produto'):\n",
    "    produtos = st.multiselect('Selecione os produtos', dados['Produto'].unique(), dados['Produto'].unique())\n",
    "\n",
    "with st.sidebar.expander('Preço do produto'):\n",
    "    preco = st.slider('Selecione o preço', 0, 5000, (0,5000))\n",
    "\n",
    "with st.sidebar.expander('Data da compra'):\n",
    "    data_compra = st.date_input('Selecione a data', (dados['Data da Compra'].min(), dados['Data da Compra'].max()))\n",
    "\n",
    "with st.sidebar.expander('Vendedor'):\n",
    "    vendedores = st.multiselect('Selecione os vendedores', dados['Vendedor'].unique(), dados['Vendedor'].unique())\n",
    "with st.sidebar.expander('Local da compra'):\n",
    "    local_compra = st.multiselect('Selecione o local da compra', dados['Local da compra'].unique(), dados['Local da compra'].unique())\n",
    "with st.sidebar.expander('Avaliação da compra'):\n",
    "    avaliacao = st.slider('Selecione a avaliação da compra',1,5, value = (1,5))\n",
    "with st.sidebar.expander('Tipo de pagamento'):\n",
    "    tipo_pagamento = st.multiselect('Selecione o tipo de pagamento',dados['Tipo de pagamento'].unique(), dados['Tipo de pagamento'].unique())\n",
    "with st.sidebar.expander('Quantidade de parcelas'):\n",
    "    qtd_parcelas = st.slider('Selecione a quantidade de parcelas', 1, 24, (1,24))"
   ]
  },
  {
   "cell_type": "code",
   "execution_count": 13,
   "id": "91086b3f",
   "metadata": {},
   "outputs": [
    {
     "data": {
      "text/plain": [
       "Index(['Produto', 'Categoria do Produto', 'Preço', 'Frete', 'Data da Compra',\n",
       "       'Vendedor', 'Local da compra', 'Avaliação da compra',\n",
       "       'Tipo de pagamento', 'Quantidade de parcelas', 'lat', 'lon'],\n",
       "      dtype='object')"
      ]
     },
     "execution_count": 13,
     "metadata": {},
     "output_type": "execute_result"
    }
   ],
   "source": [
    "dados.columns"
   ]
  },
  {
   "cell_type": "code",
   "execution_count": null,
   "id": "2ebe5f38",
   "metadata": {},
   "outputs": [],
   "source": []
  },
  {
   "cell_type": "code",
   "execution_count": null,
   "id": "e8154d33",
   "metadata": {},
   "outputs": [],
   "source": []
  },
  {
   "cell_type": "code",
   "execution_count": 13,
   "id": "f00aa6ad",
   "metadata": {},
   "outputs": [
    {
     "data": {
      "text/html": [
       "<div>\n",
       "<style scoped>\n",
       "    .dataframe tbody tr th:only-of-type {\n",
       "        vertical-align: middle;\n",
       "    }\n",
       "\n",
       "    .dataframe tbody tr th {\n",
       "        vertical-align: top;\n",
       "    }\n",
       "\n",
       "    .dataframe thead th {\n",
       "        text-align: right;\n",
       "    }\n",
       "</style>\n",
       "<table border=\"1\" class=\"dataframe\">\n",
       "  <thead>\n",
       "    <tr style=\"text-align: right;\">\n",
       "      <th></th>\n",
       "      <th>Preço</th>\n",
       "    </tr>\n",
       "    <tr>\n",
       "      <th>Categoria do Produto</th>\n",
       "      <th></th>\n",
       "    </tr>\n",
       "  </thead>\n",
       "  <tbody>\n",
       "    <tr>\n",
       "      <th>moveis</th>\n",
       "      <td>1886</td>\n",
       "    </tr>\n",
       "    <tr>\n",
       "      <th>eletronicos</th>\n",
       "      <td>1772</td>\n",
       "    </tr>\n",
       "    <tr>\n",
       "      <th>brinquedos</th>\n",
       "      <td>1290</td>\n",
       "    </tr>\n",
       "    <tr>\n",
       "      <th>eletrodomesticos</th>\n",
       "      <td>1149</td>\n",
       "    </tr>\n",
       "    <tr>\n",
       "      <th>esporte e lazer</th>\n",
       "      <td>1113</td>\n",
       "    </tr>\n",
       "  </tbody>\n",
       "</table>\n",
       "</div>"
      ],
      "text/plain": [
       "                      Preço\n",
       "Categoria do Produto       \n",
       "moveis                 1886\n",
       "eletronicos            1772\n",
       "brinquedos             1290\n",
       "eletrodomesticos       1149\n",
       "esporte e lazer        1113"
      ]
     },
     "execution_count": 13,
     "metadata": {},
     "output_type": "execute_result"
    }
   ],
   "source": [
    "qtd_vendas_categorias2.head()"
   ]
  },
  {
   "cell_type": "code",
   "execution_count": 10,
   "id": "18f62f2e",
   "metadata": {},
   "outputs": [
    {
     "data": {
      "text/html": [
       "<div>\n",
       "<style scoped>\n",
       "    .dataframe tbody tr th:only-of-type {\n",
       "        vertical-align: middle;\n",
       "    }\n",
       "\n",
       "    .dataframe tbody tr th {\n",
       "        vertical-align: top;\n",
       "    }\n",
       "\n",
       "    .dataframe thead th {\n",
       "        text-align: right;\n",
       "    }\n",
       "</style>\n",
       "<table border=\"1\" class=\"dataframe\">\n",
       "  <thead>\n",
       "    <tr style=\"text-align: right;\">\n",
       "      <th></th>\n",
       "      <th>Categoria do Produto</th>\n",
       "      <th>Quantidade de Vendas</th>\n",
       "    </tr>\n",
       "  </thead>\n",
       "  <tbody>\n",
       "    <tr>\n",
       "      <th>0</th>\n",
       "      <td>moveis</td>\n",
       "      <td>1886</td>\n",
       "    </tr>\n",
       "    <tr>\n",
       "      <th>1</th>\n",
       "      <td>eletronicos</td>\n",
       "      <td>1772</td>\n",
       "    </tr>\n",
       "    <tr>\n",
       "      <th>2</th>\n",
       "      <td>brinquedos</td>\n",
       "      <td>1290</td>\n",
       "    </tr>\n",
       "    <tr>\n",
       "      <th>3</th>\n",
       "      <td>eletrodomesticos</td>\n",
       "      <td>1149</td>\n",
       "    </tr>\n",
       "    <tr>\n",
       "      <th>4</th>\n",
       "      <td>esporte e lazer</td>\n",
       "      <td>1113</td>\n",
       "    </tr>\n",
       "  </tbody>\n",
       "</table>\n",
       "</div>"
      ],
      "text/plain": [
       "  Categoria do Produto  Quantidade de Vendas\n",
       "0               moveis                  1886\n",
       "1          eletronicos                  1772\n",
       "2           brinquedos                  1290\n",
       "3     eletrodomesticos                  1149\n",
       "4      esporte e lazer                  1113"
      ]
     },
     "execution_count": 10,
     "metadata": {},
     "output_type": "execute_result"
    }
   ],
   "source": [
    "qtd_vendas_categorias.head()"
   ]
  },
  {
   "cell_type": "code",
   "execution_count": null,
   "id": "562fb5a0",
   "metadata": {},
   "outputs": [],
   "source": [
    "\n",
    "\n",
    "## Gráficos\n",
    "\n",
    "fig_mapa_receita = px.scatter_geo(receita_estado,\n",
    "                                  lat='lat',\n",
    "                                  lon='lon',\n",
    "                                  scope='south america',\n",
    "                                  size='Preço',\n",
    "                                  template= 'seaborn',\n",
    "                                  hover_name='Local da compra',\n",
    "                                  hover_data={'lat':False,'lon':False},\n",
    "                                  title= 'Receita por Estado')\n",
    "\n",
    "\n",
    "fig_receita_mensal = px.line(receita_mensal,\n",
    "                                                        x = 'Mes',\n",
    "                                                        y = 'Preço',\n",
    "                                                        markers = True,\n",
    "                                                        range_y = (0, receita_mensal.max()),\n",
    "                                                        color='Ano',\n",
    "                                                        line_dash = 'Ano',\n",
    "                                                        title = 'Receita mensal')\n",
    "\n",
    "fig_receita_mensal.update_layout(yaxis_title = 'Receita')\n",
    "\n",
    "\n",
    "fig_receita_estado = px.bar(receita_estado.head(),\n",
    "                            x = 'Local da compra',\n",
    "                            y = 'Preço',\n",
    "                            text_auto= True,\n",
    "                            title = 'Top estados (receita)')\n",
    "\n",
    "fig_receita_estado.update_layout(yaxis_title = 'Receita')\n",
    "\n",
    "fig_receita_categorias = px.bar(receita_categorias.head(),\n",
    "                            text_auto= True,\n",
    "                            title = 'Receita por categoria')\n"
   ]
  },
  {
   "cell_type": "code",
   "execution_count": null,
   "id": "79f44eb4",
   "metadata": {},
   "outputs": [],
   "source": [
    "\n",
    "\n",
    "## Visualização no Streamlit\n",
    "\n",
    "## Definindo a quantidade de abas / páginas a serem exibidas no painel do streamlit\n",
    "\n",
    "aba1, aba2, aba3 = st.tabs(['Receita','Quantidade de Vendas', 'Vendedores'])\n",
    "\n",
    "with aba1:\n",
    "    coluna1,coluna2 = st.columns(2)\n",
    "    with coluna1:\n",
    "        st.metric('Receita',formata_numero(dados['Preço'].sum().round(0),'R$'))\n",
    "        st.plotly_chart(fig_mapa_receita,use_container_width = True)\n",
    "        st.plotly_chart(fig_receita_estado,use_container_width=True)\n",
    "    with coluna2:\n",
    "        st.metric('Quantidade de vendas',formata_numero(dados.shape[0]))\n",
    "        st.plotly_chart(fig_receita_mensal,use_container_width = True)\n",
    "        st.plotly_chart(fig_receita_categorias,use_container_width=True)\n",
    "\n",
    "with aba2:\n",
    "    coluna1,coluna2,coluna3 = st.columns(3)\n",
    "    with coluna1:\n",
    "        st.metric('Receita',formata_numero(dados['Preço'].sum().round(0),'R$'))\n",
    "        st.plotly_chart(fig_mapa_qtd_vendas,use_container_width = True)\n",
    "    with coluna2:\n",
    "        st.metric('Quantidade de vendas',formata_numero(dados.shape[0]))\n",
    "\n",
    "    with coluna3:\n",
    "        st.metric('Quantidade de estados',dados['Local da compra'].nunique())\n",
    "\n",
    "       \n",
    "with aba3:\n",
    "    qtd_vendedores = st.number_input('Quantidade de vendedores', 2, 10, 5)\n",
    "    coluna1,coluna2 = st.columns(2)\n",
    "    with coluna1:\n",
    "        st.metric('Receita',formata_numero(dados['Preço'].sum().round(0),'R$'))\n",
    "        fig_receita_vendedores = px.bar(\n",
    "        vendedores[['sum']].sort_values('sum', ascending=False).head(qtd_vendedores),\n",
    "        x='sum',\n",
    "        y=vendedores[['sum']].sort_values(['sum'], ascending=False).head(qtd_vendedores).index,\n",
    "        text_auto=True,\n",
    "        title=f'Top {qtd_vendedores} vendedores (receita)'\n",
    "        )\n",
    "        st.plotly_chart(fig_receita_vendedores,use_container_width=True)\n",
    "\n",
    "    with coluna2:\n",
    "        st.metric('Quantidade de vendas',formata_numero(dados.shape[0]))\n",
    "        fig_venda_vendedores = px.bar(\n",
    "        vendedores[['count']].sort_values('count', ascending=False).head(qtd_vendedores),\n",
    "        x='count',\n",
    "        y=vendedores[['count']].sort_values(['count'], ascending=False).head(qtd_vendedores).index,\n",
    "        text_auto=True,\n",
    "        title=f'Top {qtd_vendedores} vendedores (Quantidade de vendas)'\n",
    "        )\n",
    "        st.plotly_chart(fig_venda_vendedores,use_container_width=True)\n",
    "    \n",
    "\n",
    "#código para exibir o df  no streamlit\n",
    "# st.dataframe(dados)\n",
    "\n"
   ]
  }
 ],
 "metadata": {
  "kernelspec": {
   "display_name": "Python 3 (ipykernel)",
   "language": "python",
   "name": "python3"
  },
  "language_info": {
   "codemirror_mode": {
    "name": "ipython",
    "version": 3
   },
   "file_extension": ".py",
   "mimetype": "text/x-python",
   "name": "python",
   "nbconvert_exporter": "python",
   "pygments_lexer": "ipython3",
   "version": "3.9.13"
  }
 },
 "nbformat": 4,
 "nbformat_minor": 5
}
